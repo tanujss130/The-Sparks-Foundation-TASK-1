{
 "cells": [
  {
   "cell_type": "markdown",
   "id": "4d8ae451",
   "metadata": {},
   "source": [
    "# GRIP: The Sparks Foundation"
   ]
  },
  {
   "cell_type": "markdown",
   "id": "0317d30a",
   "metadata": {},
   "source": [
    "# Data Science & Business Analytics"
   ]
  },
  {
   "cell_type": "markdown",
   "id": "39e4f7e5",
   "metadata": {},
   "source": [
    "# Author : Tanuj sharma"
   ]
  },
  {
   "cell_type": "markdown",
   "id": "3a36d5fb",
   "metadata": {},
   "source": [
    "## Task 1: Prediction Using Supervised Machine Learning "
   ]
  },
  {
   "cell_type": "markdown",
   "id": "b436ef94",
   "metadata": {},
   "source": [
    "### Predict the percentage of an student based on the no. of study hours."
   ]
  },
  {
   "cell_type": "markdown",
   "id": "d4e4bf31",
   "metadata": {},
   "source": [
    "### Importing Modules which are used in this code"
   ]
  },
  {
   "cell_type": "code",
   "execution_count": 1,
   "id": "2bc1cc90",
   "metadata": {},
   "outputs": [],
   "source": [
    "import matplotlib.pyplot as plt\n",
    "import pandas as pd\n",
    "import numpy as np\n",
    "from sklearn import metrics\n",
    "import seaborn as sns\n",
    "import warnings\n",
    "warnings.filterwarnings('ignore')"
   ]
  },
  {
   "cell_type": "code",
   "execution_count": 2,
   "id": "3eb62be1",
   "metadata": {},
   "outputs": [],
   "source": [
    "url = \"https://raw.githubusercontent.com/AdiPersonalWorks/Random/master/student_scores%20-%20student_scores.csv\""
   ]
  },
  {
   "cell_type": "markdown",
   "id": "16505774",
   "metadata": {},
   "source": [
    "### Reading data"
   ]
  },
  {
   "cell_type": "code",
   "execution_count": 3,
   "id": "061d2ed5",
   "metadata": {},
   "outputs": [],
   "source": [
    "data=pd.read_csv(url)"
   ]
  },
  {
   "cell_type": "code",
   "execution_count": 4,
   "id": "02ce06ba",
   "metadata": {},
   "outputs": [
    {
     "data": {
      "text/html": [
       "<div>\n",
       "<style scoped>\n",
       "    .dataframe tbody tr th:only-of-type {\n",
       "        vertical-align: middle;\n",
       "    }\n",
       "\n",
       "    .dataframe tbody tr th {\n",
       "        vertical-align: top;\n",
       "    }\n",
       "\n",
       "    .dataframe thead th {\n",
       "        text-align: right;\n",
       "    }\n",
       "</style>\n",
       "<table border=\"1\" class=\"dataframe\">\n",
       "  <thead>\n",
       "    <tr style=\"text-align: right;\">\n",
       "      <th></th>\n",
       "      <th>Hours</th>\n",
       "      <th>Scores</th>\n",
       "    </tr>\n",
       "  </thead>\n",
       "  <tbody>\n",
       "    <tr>\n",
       "      <th>0</th>\n",
       "      <td>2.5</td>\n",
       "      <td>21</td>\n",
       "    </tr>\n",
       "    <tr>\n",
       "      <th>1</th>\n",
       "      <td>5.1</td>\n",
       "      <td>47</td>\n",
       "    </tr>\n",
       "    <tr>\n",
       "      <th>2</th>\n",
       "      <td>3.2</td>\n",
       "      <td>27</td>\n",
       "    </tr>\n",
       "    <tr>\n",
       "      <th>3</th>\n",
       "      <td>8.5</td>\n",
       "      <td>75</td>\n",
       "    </tr>\n",
       "    <tr>\n",
       "      <th>4</th>\n",
       "      <td>3.5</td>\n",
       "      <td>30</td>\n",
       "    </tr>\n",
       "  </tbody>\n",
       "</table>\n",
       "</div>"
      ],
      "text/plain": [
       "   Hours  Scores\n",
       "0    2.5      21\n",
       "1    5.1      47\n",
       "2    3.2      27\n",
       "3    8.5      75\n",
       "4    3.5      30"
      ]
     },
     "execution_count": 4,
     "metadata": {},
     "output_type": "execute_result"
    }
   ],
   "source": [
    "data.head()"
   ]
  },
  {
   "cell_type": "markdown",
   "id": "4dd1d85e",
   "metadata": {},
   "source": [
    "### Visualizing input data"
   ]
  },
  {
   "cell_type": "code",
   "execution_count": 5,
   "id": "5c7318ce",
   "metadata": {},
   "outputs": [
    {
     "data": {
      "image/png": "[encoded data removed]",
      "text/plain": [
       "<Figure size 432x288 with 1 Axes>"
      ]
     },
     "metadata": {
      "needs_background": "light"
     },
     "output_type": "display_data"
    }
   ],
   "source": [
    "data.plot(x='Hours', y='Scores', style = 'o') \n",
    "plt.title('Study hours vs Percentage Score') \n",
    "plt.xlabel('Study Hours') \n",
    "plt.ylabel(\"Percentage Score\") \n",
    "plt.show()"
   ]
  },
  {
   "cell_type": "code",
   "execution_count": 6,
   "id": "c2d13e82",
   "metadata": {},
   "outputs": [],
   "source": [
    "X=data.iloc[:, :-1].values \n",
    "y=data.iloc[:, -1].values"
   ]
  },
  {
   "cell_type": "markdown",
   "id": "1b1b2e4d",
   "metadata": {},
   "source": [
    "### Training MODEL"
   ]
  },
  {
   "cell_type": "code",
   "execution_count": 7,
   "id": "2b5ddad5",
   "metadata": {},
   "outputs": [
    {
     "data": {
      "text/plain": [
       "LinearRegression()"
      ]
     },
     "execution_count": 7,
     "metadata": {},
     "output_type": "execute_result"
    }
   ],
   "source": [
    "from sklearn.linear_model import LinearRegression\n",
    "r=LinearRegression()\n",
    "r.fit(X,y)"
   ]
  },
  {
   "cell_type": "markdown",
   "id": "2dec0399",
   "metadata": {},
   "source": [
    "### Visualizing Fitted line"
   ]
  },
  {
   "cell_type": "code",
   "execution_count": 8,
   "id": "7cfe1bb2",
   "metadata": {},
   "outputs": [
    {
     "data": {
      "image/png": "[encoded data removed]",
      "text/plain": [
       "<Figure size 432x288 with 1 Axes>"
      ]
     },
     "metadata": {
      "needs_background": "light"
     },
     "output_type": "display_data"
    }
   ],
   "source": [
    "l = r.coef_*X+r.intercept_\n",
    "plt. scatter(X,y)\n",
    "plt.plot(X, l,color='red')\n",
    "plt.show()"
   ]
  },
  {
   "cell_type": "markdown",
   "id": "46f94f8a",
   "metadata": {},
   "source": [
    "### Predicting for Testing data"
   ]
  },
  {
   "cell_type": "code",
   "execution_count": 9,
   "id": "8c9b7900",
   "metadata": {},
   "outputs": [
    {
     "name": "stdout",
     "output_type": "stream",
     "text": [
      "No of Hours = 9.25\n",
      "Predicted Score =92.9098547701573\n"
     ]
    }
   ],
   "source": [
    "hours = 9.25 \n",
    "pred = r.predict([[hours]])\n",
    "print(\"No of Hours = {}\".format (hours))\n",
    "print(\"Predicted Score ={}\".format (pred[0]))"
   ]
  },
  {
   "cell_type": "markdown",
   "id": "928e52ed",
   "metadata": {},
   "source": [
    "### Model evaluation"
   ]
  },
  {
   "cell_type": "code",
   "execution_count": 10,
   "id": "5ac3a4d1",
   "metadata": {},
   "outputs": [
    {
     "name": "stdout",
     "output_type": "stream",
     "text": [
      "Mean Absolute Error: 4.972805319866375\n",
      "Mean Squared Error: 28.882730509245466\n",
      "Root Mean Squared Error: 5.374265578592619\n",
      "Explained Variance Score: 0.9529481969048356\n",
      "R2 score 0.9529481969048356\n"
     ]
    }
   ],
   "source": [
    "pred = r.predict(X)\n",
    "print(\"Mean Absolute Error:\",metrics.mean_absolute_error(y,pred)) \n",
    "print(\"Mean Squared Error:\" ,metrics.mean_squared_error(y,pred))\n",
    "print(\"Root Mean Squared Error:\" ,np.sqrt(metrics.mean_squared_error(y,pred)))\n",
    "print(\"Explained Variance Score:\" ,metrics.explained_variance_score(y,pred))\n",
    "print(\"R2 score\",metrics.r2_score(y,pred))"
   ]
  },
  {
   "cell_type": "code",
   "execution_count": null,
   "id": "6f872d60",
   "metadata": {},
   "outputs": [],
   "source": [
    "Thank you "
   ]
  }
 ],
 "metadata": {
  "kernelspec": {
   "display_name": "Python 3",
   "language": "python",
   "name": "python3"
  },
  "language_info": {
   "codemirror_mode": {
    "name": "ipython",
    "version": 3
   },
   "file_extension": ".py",
   "mimetype": "text/x-python",
   "name": "python",
   "nbconvert_exporter": "python",
   "pygments_lexer": "ipython3",
   "version": "3.8.5"
  }
 },
 "nbformat": 4,
 "nbformat_minor": 5
}
